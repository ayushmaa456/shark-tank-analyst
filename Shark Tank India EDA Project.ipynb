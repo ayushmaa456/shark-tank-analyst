{
 "cells": [
  {
   "cell_type": "markdown",
   "id": "3f80d3ca",
   "metadata": {},
   "source": [
    "# Shark Tank India EDA"
   ]
  },
  {
   "cell_type": "markdown",
   "id": "9766e4e1",
   "metadata": {},
   "source": [
    "### Import Libraries"
   ]
  },
  {
   "cell_type": "code",
   "execution_count": 1,
   "id": "b196e2b7",
   "metadata": {},
   "outputs": [],
   "source": [
    "import pandas as pd\n",
    "import numpy as np\n",
    "import matplotlib.pyplot as plt\n",
    "import seaborn as sns"
   ]
  },
  {
   "cell_type": "markdown",
   "id": "b1bbbd3d",
   "metadata": {},
   "source": [
    "### Importing Data"
   ]
  },
  {
   "cell_type": "code",
   "execution_count": 2,
   "id": "1b69eb1b",
   "metadata": {},
   "outputs": [
    {
     "data": {
      "text/plain": [
       "(117, 15)"
      ]
     },
     "execution_count": 2,
     "metadata": {},
     "output_type": "execute_result"
    }
   ],
   "source": [
    "df = pd.read_csv(r'C:\\Users\\kanis\\Downloads\\Shark_Tank_India.csv')\n",
    "df.shape"
   ]
  },
  {
   "cell_type": "markdown",
   "id": "f25137b4",
   "metadata": {},
   "source": [
    "**This Data Contains details of Pitches for 117 Brands which participated in Shark Tank India**"
   ]
  },
  {
   "cell_type": "code",
   "execution_count": 3,
   "id": "2952accf",
   "metadata": {},
   "outputs": [
    {
     "data": {
      "text/html": [
       "<div>\n",
       "<style scoped>\n",
       "    .dataframe tbody tr th:only-of-type {\n",
       "        vertical-align: middle;\n",
       "    }\n",
       "\n",
       "    .dataframe tbody tr th {\n",
       "        vertical-align: top;\n",
       "    }\n",
       "\n",
       "    .dataframe thead th {\n",
       "        text-align: right;\n",
       "    }\n",
       "</style>\n",
       "<table border=\"1\" class=\"dataframe\">\n",
       "  <thead>\n",
       "    <tr style=\"text-align: right;\">\n",
       "      <th></th>\n",
       "      <th>Episode Number</th>\n",
       "      <th>Pitch Number</th>\n",
       "      <th>Brand</th>\n",
       "      <th>Idea</th>\n",
       "      <th>Investment Amount (In Lakhs INR)</th>\n",
       "      <th>Debt (In lakhs INR)</th>\n",
       "      <th>Equity</th>\n",
       "      <th>Valuation Offered (In Lakhs INR)</th>\n",
       "      <th>Anupam</th>\n",
       "      <th>Ashneer</th>\n",
       "      <th>Namita</th>\n",
       "      <th>Aman</th>\n",
       "      <th>Peyush</th>\n",
       "      <th>Vineeta</th>\n",
       "      <th>Ghazal</th>\n",
       "    </tr>\n",
       "  </thead>\n",
       "  <tbody>\n",
       "    <tr>\n",
       "      <th>0</th>\n",
       "      <td>1</td>\n",
       "      <td>1</td>\n",
       "      <td>BluePine Industries</td>\n",
       "      <td>Frozen Momos</td>\n",
       "      <td>75</td>\n",
       "      <td>0</td>\n",
       "      <td>0.18</td>\n",
       "      <td>416.67</td>\n",
       "      <td>Out</td>\n",
       "      <td>In</td>\n",
       "      <td>Out</td>\n",
       "      <td>In</td>\n",
       "      <td>Out</td>\n",
       "      <td>In</td>\n",
       "      <td>Out</td>\n",
       "    </tr>\n",
       "    <tr>\n",
       "      <th>1</th>\n",
       "      <td>1</td>\n",
       "      <td>2</td>\n",
       "      <td>Booz scooters</td>\n",
       "      <td>Renting e-bike for mobility in private spaces</td>\n",
       "      <td>40</td>\n",
       "      <td>0</td>\n",
       "      <td>0.50</td>\n",
       "      <td>80.00</td>\n",
       "      <td>Out</td>\n",
       "      <td>In</td>\n",
       "      <td>Out</td>\n",
       "      <td>Out</td>\n",
       "      <td>Out</td>\n",
       "      <td>In</td>\n",
       "      <td>Out</td>\n",
       "    </tr>\n",
       "    <tr>\n",
       "      <th>2</th>\n",
       "      <td>1</td>\n",
       "      <td>3</td>\n",
       "      <td>Heart up my Sleeves</td>\n",
       "      <td>Detachable Sleeves</td>\n",
       "      <td>25</td>\n",
       "      <td>0</td>\n",
       "      <td>0.30</td>\n",
       "      <td>83.33</td>\n",
       "      <td>In</td>\n",
       "      <td>Out</td>\n",
       "      <td>Out</td>\n",
       "      <td>Out</td>\n",
       "      <td>Out</td>\n",
       "      <td>In</td>\n",
       "      <td>Out</td>\n",
       "    </tr>\n",
       "    <tr>\n",
       "      <th>3</th>\n",
       "      <td>2</td>\n",
       "      <td>4</td>\n",
       "      <td>Tagz Foods</td>\n",
       "      <td>Healthy Potato Chips</td>\n",
       "      <td>70</td>\n",
       "      <td>0</td>\n",
       "      <td>0.03</td>\n",
       "      <td>2545.45</td>\n",
       "      <td>Out</td>\n",
       "      <td>In</td>\n",
       "      <td>Out</td>\n",
       "      <td>Out</td>\n",
       "      <td>Out</td>\n",
       "      <td>Out</td>\n",
       "      <td>Out</td>\n",
       "    </tr>\n",
       "    <tr>\n",
       "      <th>4</th>\n",
       "      <td>2</td>\n",
       "      <td>5</td>\n",
       "      <td>Head and Heart</td>\n",
       "      <td>Brain Development Course</td>\n",
       "      <td>0</td>\n",
       "      <td>0</td>\n",
       "      <td>0.00</td>\n",
       "      <td>0.00</td>\n",
       "      <td>Out</td>\n",
       "      <td>Out</td>\n",
       "      <td>Out</td>\n",
       "      <td>Out</td>\n",
       "      <td>Out</td>\n",
       "      <td>Out</td>\n",
       "      <td>Out</td>\n",
       "    </tr>\n",
       "  </tbody>\n",
       "</table>\n",
       "</div>"
      ],
      "text/plain": [
       "   Episode Number  Pitch Number                Brand  \\\n",
       "0               1             1  BluePine Industries   \n",
       "1               1             2        Booz scooters   \n",
       "2               1             3  Heart up my Sleeves   \n",
       "3               2             4           Tagz Foods   \n",
       "4               2             5       Head and Heart   \n",
       "\n",
       "                                            Idea  \\\n",
       "0                                   Frozen Momos   \n",
       "1  Renting e-bike for mobility in private spaces   \n",
       "2                             Detachable Sleeves   \n",
       "3                           Healthy Potato Chips   \n",
       "4                       Brain Development Course   \n",
       "\n",
       "   Investment Amount (In Lakhs INR)   Debt (In lakhs INR)  Equity   \\\n",
       "0                                 75                    0     0.18   \n",
       "1                                 40                    0     0.50   \n",
       "2                                 25                    0     0.30   \n",
       "3                                 70                    0     0.03   \n",
       "4                                  0                    0     0.00   \n",
       "\n",
       "   Valuation Offered (In Lakhs INR) Anupam Ashneer Namita Aman Peyush Vineeta  \\\n",
       "0                            416.67    Out      In    Out   In    Out      In   \n",
       "1                             80.00    Out      In    Out  Out    Out      In   \n",
       "2                             83.33     In     Out    Out  Out    Out      In   \n",
       "3                           2545.45    Out      In    Out  Out    Out     Out   \n",
       "4                              0.00    Out     Out    Out  Out    Out     Out   \n",
       "\n",
       "  Ghazal  \n",
       "0    Out  \n",
       "1    Out  \n",
       "2    Out  \n",
       "3    Out  \n",
       "4    Out  "
      ]
     },
     "execution_count": 3,
     "metadata": {},
     "output_type": "execute_result"
    }
   ],
   "source": [
    "df.head()"
   ]
  },
  {
   "cell_type": "code",
   "execution_count": 4,
   "id": "ae145c64",
   "metadata": {},
   "outputs": [
    {
     "data": {
      "text/plain": [
       "Index(['Episode Number', 'Pitch Number', 'Brand', 'Idea',\n",
       "       'Investment Amount (In Lakhs INR) ', 'Debt (In lakhs INR)', 'Equity ',\n",
       "       'Valuation Offered (In Lakhs INR)', 'Anupam', 'Ashneer', 'Namita',\n",
       "       'Aman', 'Peyush', 'Vineeta', 'Ghazal'],\n",
       "      dtype='object')"
      ]
     },
     "execution_count": 4,
     "metadata": {},
     "output_type": "execute_result"
    }
   ],
   "source": [
    "df.columns"
   ]
  },
  {
   "cell_type": "code",
   "execution_count": 5,
   "id": "35ed414c",
   "metadata": {},
   "outputs": [
    {
     "name": "stdout",
     "output_type": "stream",
     "text": [
      "<class 'pandas.core.frame.DataFrame'>\n",
      "RangeIndex: 117 entries, 0 to 116\n",
      "Data columns (total 15 columns):\n",
      " #   Column                             Non-Null Count  Dtype  \n",
      "---  ------                             --------------  -----  \n",
      " 0   Episode Number                     117 non-null    int64  \n",
      " 1   Pitch Number                       117 non-null    int64  \n",
      " 2   Brand                              117 non-null    object \n",
      " 3   Idea                               117 non-null    object \n",
      " 4   Investment Amount (In Lakhs INR)   117 non-null    int64  \n",
      " 5   Debt (In lakhs INR)                117 non-null    int64  \n",
      " 6   Equity                             117 non-null    float64\n",
      " 7   Valuation Offered (In Lakhs INR)   117 non-null    float64\n",
      " 8   Anupam                             117 non-null    object \n",
      " 9   Ashneer                            117 non-null    object \n",
      " 10  Namita                             117 non-null    object \n",
      " 11  Aman                               117 non-null    object \n",
      " 12  Peyush                             117 non-null    object \n",
      " 13  Vineeta                            117 non-null    object \n",
      " 14  Ghazal                             117 non-null    object \n",
      "dtypes: float64(2), int64(4), object(9)\n",
      "memory usage: 13.8+ KB\n"
     ]
    }
   ],
   "source": [
    "df.info()"
   ]
  },
  {
   "cell_type": "code",
   "execution_count": 6,
   "id": "f21a6114",
   "metadata": {},
   "outputs": [
    {
     "data": {
      "text/html": [
       "<div>\n",
       "<style scoped>\n",
       "    .dataframe tbody tr th:only-of-type {\n",
       "        vertical-align: middle;\n",
       "    }\n",
       "\n",
       "    .dataframe tbody tr th {\n",
       "        vertical-align: top;\n",
       "    }\n",
       "\n",
       "    .dataframe thead th {\n",
       "        text-align: right;\n",
       "    }\n",
       "</style>\n",
       "<table border=\"1\" class=\"dataframe\">\n",
       "  <thead>\n",
       "    <tr style=\"text-align: right;\">\n",
       "      <th></th>\n",
       "      <th>Investment Amount (In Lakhs INR)</th>\n",
       "      <th>Debt (In lakhs INR)</th>\n",
       "      <th>Equity</th>\n",
       "      <th>Valuation Offered (In Lakhs INR)</th>\n",
       "    </tr>\n",
       "  </thead>\n",
       "  <tbody>\n",
       "    <tr>\n",
       "      <th>count</th>\n",
       "      <td>117.000000</td>\n",
       "      <td>117.000000</td>\n",
       "      <td>117.000000</td>\n",
       "      <td>117.000000</td>\n",
       "    </tr>\n",
       "    <tr>\n",
       "      <th>mean</th>\n",
       "      <td>21.683761</td>\n",
       "      <td>2.572650</td>\n",
       "      <td>0.091453</td>\n",
       "      <td>278.696496</td>\n",
       "    </tr>\n",
       "    <tr>\n",
       "      <th>std</th>\n",
       "      <td>26.067766</td>\n",
       "      <td>11.544753</td>\n",
       "      <td>0.132289</td>\n",
       "      <td>538.463175</td>\n",
       "    </tr>\n",
       "    <tr>\n",
       "      <th>min</th>\n",
       "      <td>0.000000</td>\n",
       "      <td>0.000000</td>\n",
       "      <td>0.000000</td>\n",
       "      <td>0.000000</td>\n",
       "    </tr>\n",
       "    <tr>\n",
       "      <th>25%</th>\n",
       "      <td>0.000000</td>\n",
       "      <td>0.000000</td>\n",
       "      <td>0.000000</td>\n",
       "      <td>0.000000</td>\n",
       "    </tr>\n",
       "    <tr>\n",
       "      <th>50%</th>\n",
       "      <td>10.000000</td>\n",
       "      <td>0.000000</td>\n",
       "      <td>0.030000</td>\n",
       "      <td>80.000000</td>\n",
       "    </tr>\n",
       "    <tr>\n",
       "      <th>75%</th>\n",
       "      <td>50.000000</td>\n",
       "      <td>0.000000</td>\n",
       "      <td>0.150000</td>\n",
       "      <td>250.000000</td>\n",
       "    </tr>\n",
       "    <tr>\n",
       "      <th>max</th>\n",
       "      <td>80.000000</td>\n",
       "      <td>99.000000</td>\n",
       "      <td>0.750000</td>\n",
       "      <td>2798.510000</td>\n",
       "    </tr>\n",
       "  </tbody>\n",
       "</table>\n",
       "</div>"
      ],
      "text/plain": [
       "       Investment Amount (In Lakhs INR)   Debt (In lakhs INR)     Equity   \\\n",
       "count                         117.000000           117.000000  117.000000   \n",
       "mean                           21.683761             2.572650    0.091453   \n",
       "std                            26.067766            11.544753    0.132289   \n",
       "min                             0.000000             0.000000    0.000000   \n",
       "25%                             0.000000             0.000000    0.000000   \n",
       "50%                            10.000000             0.000000    0.030000   \n",
       "75%                            50.000000             0.000000    0.150000   \n",
       "max                            80.000000            99.000000    0.750000   \n",
       "\n",
       "       Valuation Offered (In Lakhs INR)  \n",
       "count                        117.000000  \n",
       "mean                         278.696496  \n",
       "std                          538.463175  \n",
       "min                            0.000000  \n",
       "25%                            0.000000  \n",
       "50%                           80.000000  \n",
       "75%                          250.000000  \n",
       "max                         2798.510000  "
      ]
     },
     "execution_count": 6,
     "metadata": {},
     "output_type": "execute_result"
    }
   ],
   "source": [
    "df[['Investment Amount (In Lakhs INR) ','Debt (In lakhs INR)','Equity ','Valuation Offered (In Lakhs INR)']].describe()"
   ]
  },
  {
   "cell_type": "markdown",
   "id": "84f722f8",
   "metadata": {},
   "source": [
    "-------------------------------------------------------------------------------------------------------------------------------"
   ]
  },
  {
   "cell_type": "markdown",
   "id": "bcc28512",
   "metadata": {},
   "source": [
    "**Observation:**\n",
    "\n",
    "- Maximum Equity Offered is 75 % of the Company\n",
    "- 27 Crore 98 Lakh is the Heighest Valueation which was offered by sharks\n",
    "- 80 Lakh is the maximum Investment made by Sharks in a brand for season 1\n",
    "- 99 Lakh is heighest debt offered"
   ]
  },
  {
   "cell_type": "markdown",
   "id": "9fd4aad1",
   "metadata": {},
   "source": [
    "---------------------------------------------------------------------------------------------------------------------------------"
   ]
  },
  {
   "cell_type": "markdown",
   "id": "3fbdb8c8",
   "metadata": {},
   "source": [
    "**Let's Create a separate Dataframe for all the brands who received Investment in Shark Tank India**\n",
    "\n",
    "We will call it as df_deals"
   ]
  },
  {
   "cell_type": "code",
   "execution_count": 7,
   "id": "8b0f37eb",
   "metadata": {},
   "outputs": [],
   "source": [
    "df_deals = df[df['Investment Amount (In Lakhs INR) ']>0]"
   ]
  },
  {
   "cell_type": "code",
   "execution_count": 8,
   "id": "4d9f4ec5",
   "metadata": {},
   "outputs": [
    {
     "data": {
      "text/plain": [
       "(65, 15)"
      ]
     },
     "execution_count": 8,
     "metadata": {},
     "output_type": "execute_result"
    }
   ],
   "source": [
    "df_deals.shape"
   ]
  },
  {
   "cell_type": "markdown",
   "id": "d845b0a4",
   "metadata": {},
   "source": [
    "- 65 Startups Received Investments in Shark Tank India (According to this Data)"
   ]
  },
  {
   "cell_type": "code",
   "execution_count": 9,
   "id": "f7fe231e",
   "metadata": {},
   "outputs": [
    {
     "data": {
      "text/html": [
       "<div>\n",
       "<style scoped>\n",
       "    .dataframe tbody tr th:only-of-type {\n",
       "        vertical-align: middle;\n",
       "    }\n",
       "\n",
       "    .dataframe tbody tr th {\n",
       "        vertical-align: top;\n",
       "    }\n",
       "\n",
       "    .dataframe thead th {\n",
       "        text-align: right;\n",
       "    }\n",
       "</style>\n",
       "<table border=\"1\" class=\"dataframe\">\n",
       "  <thead>\n",
       "    <tr style=\"text-align: right;\">\n",
       "      <th></th>\n",
       "      <th>Investment Amount (In Lakhs INR)</th>\n",
       "      <th>Debt (In lakhs INR)</th>\n",
       "      <th>Equity</th>\n",
       "      <th>Valuation Offered (In Lakhs INR)</th>\n",
       "    </tr>\n",
       "  </thead>\n",
       "  <tbody>\n",
       "    <tr>\n",
       "      <th>count</th>\n",
       "      <td>65.000000</td>\n",
       "      <td>65.000000</td>\n",
       "      <td>65.000000</td>\n",
       "      <td>65.000000</td>\n",
       "    </tr>\n",
       "    <tr>\n",
       "      <th>mean</th>\n",
       "      <td>39.030769</td>\n",
       "      <td>4.630769</td>\n",
       "      <td>0.164615</td>\n",
       "      <td>501.653692</td>\n",
       "    </tr>\n",
       "    <tr>\n",
       "      <th>std</th>\n",
       "      <td>23.323787</td>\n",
       "      <td>15.228026</td>\n",
       "      <td>0.139598</td>\n",
       "      <td>641.814639</td>\n",
       "    </tr>\n",
       "    <tr>\n",
       "      <th>min</th>\n",
       "      <td>1.000000</td>\n",
       "      <td>0.000000</td>\n",
       "      <td>0.010000</td>\n",
       "      <td>25.000000</td>\n",
       "    </tr>\n",
       "    <tr>\n",
       "      <th>25%</th>\n",
       "      <td>10.000000</td>\n",
       "      <td>0.000000</td>\n",
       "      <td>0.060000</td>\n",
       "      <td>125.000000</td>\n",
       "    </tr>\n",
       "    <tr>\n",
       "      <th>50%</th>\n",
       "      <td>40.000000</td>\n",
       "      <td>0.000000</td>\n",
       "      <td>0.150000</td>\n",
       "      <td>216.670000</td>\n",
       "    </tr>\n",
       "    <tr>\n",
       "      <th>75%</th>\n",
       "      <td>50.000000</td>\n",
       "      <td>0.000000</td>\n",
       "      <td>0.240000</td>\n",
       "      <td>500.000000</td>\n",
       "    </tr>\n",
       "    <tr>\n",
       "      <th>max</th>\n",
       "      <td>80.000000</td>\n",
       "      <td>99.000000</td>\n",
       "      <td>0.750000</td>\n",
       "      <td>2798.510000</td>\n",
       "    </tr>\n",
       "  </tbody>\n",
       "</table>\n",
       "</div>"
      ],
      "text/plain": [
       "       Investment Amount (In Lakhs INR)   Debt (In lakhs INR)    Equity   \\\n",
       "count                          65.000000            65.000000  65.000000   \n",
       "mean                           39.030769             4.630769   0.164615   \n",
       "std                            23.323787            15.228026   0.139598   \n",
       "min                             1.000000             0.000000   0.010000   \n",
       "25%                            10.000000             0.000000   0.060000   \n",
       "50%                            40.000000             0.000000   0.150000   \n",
       "75%                            50.000000             0.000000   0.240000   \n",
       "max                            80.000000            99.000000   0.750000   \n",
       "\n",
       "       Valuation Offered (In Lakhs INR)  \n",
       "count                         65.000000  \n",
       "mean                         501.653692  \n",
       "std                          641.814639  \n",
       "min                           25.000000  \n",
       "25%                          125.000000  \n",
       "50%                          216.670000  \n",
       "75%                          500.000000  \n",
       "max                         2798.510000  "
      ]
     },
     "execution_count": 9,
     "metadata": {},
     "output_type": "execute_result"
    }
   ],
   "source": [
    "df_deals[['Investment Amount (In Lakhs INR) ','Debt (In lakhs INR)','Equity ','Valuation Offered (In Lakhs INR)']].describe()"
   ]
  },
  {
   "cell_type": "markdown",
   "id": "85ae115c",
   "metadata": {},
   "source": [
    "**This was the Statistical Description of all the Brands which receieved Invetment**"
   ]
  },
  {
   "cell_type": "markdown",
   "id": "b14433a6",
   "metadata": {},
   "source": [
    "**Check of Null Values**"
   ]
  },
  {
   "cell_type": "code",
   "execution_count": 10,
   "id": "0e672c52",
   "metadata": {},
   "outputs": [
    {
     "data": {
      "text/plain": [
       "Episode Number                       0\n",
       "Pitch Number                         0\n",
       "Brand                                0\n",
       "Idea                                 0\n",
       "Investment Amount (In Lakhs INR)     0\n",
       "Debt (In lakhs INR)                  0\n",
       "Equity                               0\n",
       "Valuation Offered (In Lakhs INR)     0\n",
       "Anupam                               0\n",
       "Ashneer                              0\n",
       "Namita                               0\n",
       "Aman                                 0\n",
       "Peyush                               0\n",
       "Vineeta                              0\n",
       "Ghazal                               0\n",
       "dtype: int64"
      ]
     },
     "execution_count": 10,
     "metadata": {},
     "output_type": "execute_result"
    }
   ],
   "source": [
    "df.isnull().sum()"
   ]
  },
  {
   "cell_type": "markdown",
   "id": "4375b4b0",
   "metadata": {},
   "source": [
    "**Check on Duplicates**"
   ]
  },
  {
   "cell_type": "code",
   "execution_count": 11,
   "id": "8a76e7a0",
   "metadata": {},
   "outputs": [
    {
     "data": {
      "text/plain": [
       "0"
      ]
     },
     "execution_count": 11,
     "metadata": {},
     "output_type": "execute_result"
    }
   ],
   "source": [
    "df['Brand'].duplicated().sum()"
   ]
  },
  {
   "cell_type": "markdown",
   "id": "e1f31078",
   "metadata": {},
   "source": [
    "- No Duplicate and Null Values"
   ]
  },
  {
   "cell_type": "code",
   "execution_count": 12,
   "id": "bfaa8978",
   "metadata": {},
   "outputs": [],
   "source": [
    "df_no_deals = df[df['Investment Amount (In Lakhs INR) ']==0]"
   ]
  },
  {
   "cell_type": "code",
   "execution_count": 13,
   "id": "e48eafdc",
   "metadata": {},
   "outputs": [
    {
     "data": {
      "text/plain": [
       "(52, 15)"
      ]
     },
     "execution_count": 13,
     "metadata": {},
     "output_type": "execute_result"
    }
   ],
   "source": [
    "df_no_deals.shape"
   ]
  },
  {
   "cell_type": "markdown",
   "id": "0e8a8b30",
   "metadata": {},
   "source": [
    "## How many Brands Received Investment ?"
   ]
  },
  {
   "cell_type": "code",
   "execution_count": 14,
   "id": "357a7e23",
   "metadata": {},
   "outputs": [
    {
     "data": {
      "text/plain": [
       "[]"
      ]
     },
     "execution_count": 14,
     "metadata": {},
     "output_type": "execute_result"
    },
    {
     "data": {
      "image/png": "[encoded data removed]",
      "text/plain": [
       "<Figure size 500x500 with 1 Axes>"
      ]
     },
     "metadata": {},
     "output_type": "display_data"
    }
   ],
   "source": [
    "plt.figure(figsize=(5,5))\n",
    "plt.pie([df_deals.shape[0],df_no_deals.shape[0]], labels = ['Received Investments', 'No Investment'], autopct='%1.2f%%',colors=['seagreen','orange'],shadow=True,frame=False,labeldistance=1.15)\n",
    "plt.title('Deals Vs No Deals', fontsize = 15)\n",
    "plt.plot()"
   ]
  },
  {
   "cell_type": "markdown",
   "id": "2468f745",
   "metadata": {},
   "source": [
    "**Observation:**\n",
    "\n",
    "- 55.56 % of Brands Received Invetments"
   ]
  },
  {
   "cell_type": "markdown",
   "id": "5d74b289",
   "metadata": {},
   "source": [
    "### How many Sharks were in for Each Brand ?"
   ]
  },
  {
   "cell_type": "code",
   "execution_count": 15,
   "id": "6650221f",
   "metadata": {},
   "outputs": [],
   "source": [
    "df1 = df.copy()"
   ]
  },
  {
   "cell_type": "code",
   "execution_count": 16,
   "id": "b5be21a2",
   "metadata": {},
   "outputs": [],
   "source": [
    "df1 = df1.replace({'Out':0,'In':1})"
   ]
  },
  {
   "cell_type": "code",
   "execution_count": 17,
   "id": "fb42be64",
   "metadata": {},
   "outputs": [],
   "source": [
    "df['Sharks _In'] = df1['Anupam']+df1['Ashneer']+df1['Namita']+df1['Aman']+df1['Peyush']+df1['Vineeta']+df1['Ghazal']"
   ]
  },
  {
   "cell_type": "code",
   "execution_count": 18,
   "id": "d2c4d92b",
   "metadata": {},
   "outputs": [
    {
     "data": {
      "text/html": [
       "<div>\n",
       "<style scoped>\n",
       "    .dataframe tbody tr th:only-of-type {\n",
       "        vertical-align: middle;\n",
       "    }\n",
       "\n",
       "    .dataframe tbody tr th {\n",
       "        vertical-align: top;\n",
       "    }\n",
       "\n",
       "    .dataframe thead th {\n",
       "        text-align: right;\n",
       "    }\n",
       "</style>\n",
       "<table border=\"1\" class=\"dataframe\">\n",
       "  <thead>\n",
       "    <tr style=\"text-align: right;\">\n",
       "      <th></th>\n",
       "      <th>Episode Number</th>\n",
       "      <th>Pitch Number</th>\n",
       "      <th>Brand</th>\n",
       "      <th>Idea</th>\n",
       "      <th>Investment Amount (In Lakhs INR)</th>\n",
       "      <th>Debt (In lakhs INR)</th>\n",
       "      <th>Equity</th>\n",
       "      <th>Valuation Offered (In Lakhs INR)</th>\n",
       "      <th>Anupam</th>\n",
       "      <th>Ashneer</th>\n",
       "      <th>Namita</th>\n",
       "      <th>Aman</th>\n",
       "      <th>Peyush</th>\n",
       "      <th>Vineeta</th>\n",
       "      <th>Ghazal</th>\n",
       "      <th>Sharks _In</th>\n",
       "    </tr>\n",
       "  </thead>\n",
       "  <tbody>\n",
       "    <tr>\n",
       "      <th>0</th>\n",
       "      <td>1</td>\n",
       "      <td>1</td>\n",
       "      <td>BluePine Industries</td>\n",
       "      <td>Frozen Momos</td>\n",
       "      <td>75</td>\n",
       "      <td>0</td>\n",
       "      <td>0.18</td>\n",
       "      <td>416.67</td>\n",
       "      <td>Out</td>\n",
       "      <td>In</td>\n",
       "      <td>Out</td>\n",
       "      <td>In</td>\n",
       "      <td>Out</td>\n",
       "      <td>In</td>\n",
       "      <td>Out</td>\n",
       "      <td>3</td>\n",
       "    </tr>\n",
       "    <tr>\n",
       "      <th>1</th>\n",
       "      <td>1</td>\n",
       "      <td>2</td>\n",
       "      <td>Booz scooters</td>\n",
       "      <td>Renting e-bike for mobility in private spaces</td>\n",
       "      <td>40</td>\n",
       "      <td>0</td>\n",
       "      <td>0.50</td>\n",
       "      <td>80.00</td>\n",
       "      <td>Out</td>\n",
       "      <td>In</td>\n",
       "      <td>Out</td>\n",
       "      <td>Out</td>\n",
       "      <td>Out</td>\n",
       "      <td>In</td>\n",
       "      <td>Out</td>\n",
       "      <td>2</td>\n",
       "    </tr>\n",
       "    <tr>\n",
       "      <th>2</th>\n",
       "      <td>1</td>\n",
       "      <td>3</td>\n",
       "      <td>Heart up my Sleeves</td>\n",
       "      <td>Detachable Sleeves</td>\n",
       "      <td>25</td>\n",
       "      <td>0</td>\n",
       "      <td>0.30</td>\n",
       "      <td>83.33</td>\n",
       "      <td>In</td>\n",
       "      <td>Out</td>\n",
       "      <td>Out</td>\n",
       "      <td>Out</td>\n",
       "      <td>Out</td>\n",
       "      <td>In</td>\n",
       "      <td>Out</td>\n",
       "      <td>2</td>\n",
       "    </tr>\n",
       "    <tr>\n",
       "      <th>3</th>\n",
       "      <td>2</td>\n",
       "      <td>4</td>\n",
       "      <td>Tagz Foods</td>\n",
       "      <td>Healthy Potato Chips</td>\n",
       "      <td>70</td>\n",
       "      <td>0</td>\n",
       "      <td>0.03</td>\n",
       "      <td>2545.45</td>\n",
       "      <td>Out</td>\n",
       "      <td>In</td>\n",
       "      <td>Out</td>\n",
       "      <td>Out</td>\n",
       "      <td>Out</td>\n",
       "      <td>Out</td>\n",
       "      <td>Out</td>\n",
       "      <td>1</td>\n",
       "    </tr>\n",
       "    <tr>\n",
       "      <th>4</th>\n",
       "      <td>2</td>\n",
       "      <td>5</td>\n",
       "      <td>Head and Heart</td>\n",
       "      <td>Brain Development Course</td>\n",
       "      <td>0</td>\n",
       "      <td>0</td>\n",
       "      <td>0.00</td>\n",
       "      <td>0.00</td>\n",
       "      <td>Out</td>\n",
       "      <td>Out</td>\n",
       "      <td>Out</td>\n",
       "      <td>Out</td>\n",
       "      <td>Out</td>\n",
       "      <td>Out</td>\n",
       "      <td>Out</td>\n",
       "      <td>0</td>\n",
       "    </tr>\n",
       "  </tbody>\n",
       "</table>\n",
       "</div>"
      ],
      "text/plain": [
       "   Episode Number  Pitch Number                Brand  \\\n",
       "0               1             1  BluePine Industries   \n",
       "1               1             2        Booz scooters   \n",
       "2               1             3  Heart up my Sleeves   \n",
       "3               2             4           Tagz Foods   \n",
       "4               2             5       Head and Heart   \n",
       "\n",
       "                                            Idea  \\\n",
       "0                                   Frozen Momos   \n",
       "1  Renting e-bike for mobility in private spaces   \n",
       "2                             Detachable Sleeves   \n",
       "3                           Healthy Potato Chips   \n",
       "4                       Brain Development Course   \n",
       "\n",
       "   Investment Amount (In Lakhs INR)   Debt (In lakhs INR)  Equity   \\\n",
       "0                                 75                    0     0.18   \n",
       "1                                 40                    0     0.50   \n",
       "2                                 25                    0     0.30   \n",
       "3                                 70                    0     0.03   \n",
       "4                                  0                    0     0.00   \n",
       "\n",
       "   Valuation Offered (In Lakhs INR) Anupam Ashneer Namita Aman Peyush Vineeta  \\\n",
       "0                            416.67    Out      In    Out   In    Out      In   \n",
       "1                             80.00    Out      In    Out  Out    Out      In   \n",
       "2                             83.33     In     Out    Out  Out    Out      In   \n",
       "3                           2545.45    Out      In    Out  Out    Out     Out   \n",
       "4                              0.00    Out     Out    Out  Out    Out     Out   \n",
       "\n",
       "  Ghazal  Sharks _In  \n",
       "0    Out           3  \n",
       "1    Out           2  \n",
       "2    Out           2  \n",
       "3    Out           1  \n",
       "4    Out           0  "
      ]
     },
     "execution_count": 18,
     "metadata": {},
     "output_type": "execute_result"
    }
   ],
   "source": [
    "df.head()"
   ]
  },
  {
   "cell_type": "markdown",
   "id": "303694b0",
   "metadata": {},
   "source": [
    "**We have Added a Column where the number of sharks investing in Brand is mentioned**"
   ]
  },
  {
   "cell_type": "code",
   "execution_count": 19,
   "id": "3efc6554",
   "metadata": {},
   "outputs": [
    {
     "data": {
      "text/plain": [
       "5"
      ]
     },
     "execution_count": 19,
     "metadata": {},
     "output_type": "execute_result"
    }
   ],
   "source": [
    "df['Sharks _In'].max()"
   ]
  },
  {
   "cell_type": "markdown",
   "id": "82dadedb",
   "metadata": {},
   "source": [
    "**Lets check how many brands are there where 5 Sharks were IN**"
   ]
  },
  {
   "cell_type": "code",
   "execution_count": 20,
   "id": "147f3eb6",
   "metadata": {},
   "outputs": [
    {
     "data": {
      "text/html": [
       "<div>\n",
       "<style scoped>\n",
       "    .dataframe tbody tr th:only-of-type {\n",
       "        vertical-align: middle;\n",
       "    }\n",
       "\n",
       "    .dataframe tbody tr th {\n",
       "        vertical-align: top;\n",
       "    }\n",
       "\n",
       "    .dataframe thead th {\n",
       "        text-align: right;\n",
       "    }\n",
       "</style>\n",
       "<table border=\"1\" class=\"dataframe\">\n",
       "  <thead>\n",
       "    <tr style=\"text-align: right;\">\n",
       "      <th></th>\n",
       "      <th>Episode Number</th>\n",
       "      <th>Pitch Number</th>\n",
       "      <th>Brand</th>\n",
       "      <th>Idea</th>\n",
       "      <th>Investment Amount (In Lakhs INR)</th>\n",
       "      <th>Debt (In lakhs INR)</th>\n",
       "      <th>Equity</th>\n",
       "      <th>Valuation Offered (In Lakhs INR)</th>\n",
       "      <th>Anupam</th>\n",
       "      <th>Ashneer</th>\n",
       "      <th>Namita</th>\n",
       "      <th>Aman</th>\n",
       "      <th>Peyush</th>\n",
       "      <th>Vineeta</th>\n",
       "      <th>Ghazal</th>\n",
       "      <th>Sharks _In</th>\n",
       "    </tr>\n",
       "  </thead>\n",
       "  <tbody>\n",
       "    <tr>\n",
       "      <th>15</th>\n",
       "      <td>6</td>\n",
       "      <td>16</td>\n",
       "      <td>Skippi Pops</td>\n",
       "      <td>Ice-Pops</td>\n",
       "      <td>10</td>\n",
       "      <td>0</td>\n",
       "      <td>0.15</td>\n",
       "      <td>66.67</td>\n",
       "      <td>In</td>\n",
       "      <td>In</td>\n",
       "      <td>In</td>\n",
       "      <td>In</td>\n",
       "      <td>Out</td>\n",
       "      <td>In</td>\n",
       "      <td>Out</td>\n",
       "      <td>5</td>\n",
       "    </tr>\n",
       "    <tr>\n",
       "      <th>49</th>\n",
       "      <td>17</td>\n",
       "      <td>50</td>\n",
       "      <td>Find Your Kicks India</td>\n",
       "      <td>Sneaker Resale</td>\n",
       "      <td>50</td>\n",
       "      <td>0</td>\n",
       "      <td>0.25</td>\n",
       "      <td>200.00</td>\n",
       "      <td>In</td>\n",
       "      <td>In</td>\n",
       "      <td>In</td>\n",
       "      <td>In</td>\n",
       "      <td>In</td>\n",
       "      <td>Out</td>\n",
       "      <td>Out</td>\n",
       "      <td>5</td>\n",
       "    </tr>\n",
       "    <tr>\n",
       "      <th>63</th>\n",
       "      <td>20</td>\n",
       "      <td>64</td>\n",
       "      <td>IN A CAN</td>\n",
       "      <td>Can Cocktails</td>\n",
       "      <td>10</td>\n",
       "      <td>0</td>\n",
       "      <td>0.10</td>\n",
       "      <td>100.00</td>\n",
       "      <td>In</td>\n",
       "      <td>In</td>\n",
       "      <td>In</td>\n",
       "      <td>In</td>\n",
       "      <td>In</td>\n",
       "      <td>Out</td>\n",
       "      <td>Out</td>\n",
       "      <td>5</td>\n",
       "    </tr>\n",
       "    <tr>\n",
       "      <th>79</th>\n",
       "      <td>25</td>\n",
       "      <td>80</td>\n",
       "      <td>Sunfox Technologies</td>\n",
       "      <td>Portable ECG Device</td>\n",
       "      <td>10</td>\n",
       "      <td>0</td>\n",
       "      <td>0.06</td>\n",
       "      <td>166.67</td>\n",
       "      <td>In</td>\n",
       "      <td>Out</td>\n",
       "      <td>In</td>\n",
       "      <td>Out</td>\n",
       "      <td>In</td>\n",
       "      <td>In</td>\n",
       "      <td>In</td>\n",
       "      <td>5</td>\n",
       "    </tr>\n",
       "  </tbody>\n",
       "</table>\n",
       "</div>"
      ],
      "text/plain": [
       "    Episode Number  Pitch Number                  Brand                 Idea  \\\n",
       "15               6            16            Skippi Pops             Ice-Pops   \n",
       "49              17            50  Find Your Kicks India       Sneaker Resale   \n",
       "63              20            64               IN A CAN        Can Cocktails   \n",
       "79              25            80    Sunfox Technologies  Portable ECG Device   \n",
       "\n",
       "    Investment Amount (In Lakhs INR)   Debt (In lakhs INR)  Equity   \\\n",
       "15                                 10                    0     0.15   \n",
       "49                                 50                    0     0.25   \n",
       "63                                 10                    0     0.10   \n",
       "79                                 10                    0     0.06   \n",
       "\n",
       "    Valuation Offered (In Lakhs INR) Anupam Ashneer Namita Aman Peyush  \\\n",
       "15                             66.67     In      In     In   In    Out   \n",
       "49                            200.00     In      In     In   In     In   \n",
       "63                            100.00     In      In     In   In     In   \n",
       "79                            166.67     In     Out     In  Out     In   \n",
       "\n",
       "   Vineeta Ghazal  Sharks _In  \n",
       "15      In    Out           5  \n",
       "49     Out    Out           5  \n",
       "63     Out    Out           5  \n",
       "79      In     In           5  "
      ]
     },
     "execution_count": 20,
     "metadata": {},
     "output_type": "execute_result"
    }
   ],
   "source": [
    "df[df['Sharks _In']==5]"
   ]
  },
  {
   "cell_type": "markdown",
   "id": "fb1f5ccf",
   "metadata": {},
   "source": [
    "- These are the 4 Brands in which 5 Sharks were invested"
   ]
  },
  {
   "cell_type": "markdown",
   "id": "4c323f57",
   "metadata": {},
   "source": [
    "### Interest of Sharks"
   ]
  },
  {
   "cell_type": "code",
   "execution_count": 21,
   "id": "a42b955c",
   "metadata": {},
   "outputs": [],
   "source": [
    "shark_in = [df1['Anupam'].sum(),df1['Ashneer'].sum(),df1['Namita'].sum(),df1['Aman'].sum(),df1['Peyush'].sum(),df1['Vineeta'].sum(),df1['Ghazal'].sum()]"
   ]
  },
  {
   "cell_type": "code",
   "execution_count": 22,
   "id": "f50d6fbe",
   "metadata": {},
   "outputs": [],
   "source": [
    "sharks = ['Anupam','Ashneer','Namita','Aman','Peyush','Vineeta','Ghazal']"
   ]
  },
  {
   "cell_type": "code",
   "execution_count": 23,
   "id": "5d4782d9",
   "metadata": {},
   "outputs": [
    {
     "data": {
      "text/plain": [
       "[]"
      ]
     },
     "execution_count": 23,
     "metadata": {},
     "output_type": "execute_result"
    },
    {
     "data": {
      "image/png": "[encoded data removed]",
      "text/plain": [
       "<Figure size 1000x500 with 1 Axes>"
      ]
     },
     "metadata": {},
     "output_type": "display_data"
    }
   ],
   "source": [
    "plt.figure(figsize=(10,5))\n",
    "sns.barplot(x=sharks, y=shark_in, palette='rainbow')\n",
    "plt.xlabel('Sharks')\n",
    "plt.ylabel('Number of Companies they were interested In')\n",
    "plt.title(\"Interest of Sharks\", fontsize = 15)\n",
    "plt.plot()"
   ]
  },
  {
   "cell_type": "markdown",
   "id": "6d49874e",
   "metadata": {},
   "source": [
    "-------------------------------------------------------------------------------------------------------------------------------"
   ]
  },
  {
   "cell_type": "markdown",
   "id": "dfd496ed",
   "metadata": {},
   "source": [
    "**Obseravtion:**\n",
    "\n",
    "- **Aman Gupta (co-Founder of Boat)** had invested in maximum Companies (i.e. 26 Brands) \n",
    "- **Ghazal Alag (co-Founder of MamaEarth)** had invested in minimum Companies (i.e. 7 Brands)"
   ]
  },
  {
   "cell_type": "code",
   "execution_count": 24,
   "id": "f3bbcb7b",
   "metadata": {},
   "outputs": [],
   "source": [
    "Ashneer = df[['Ashneer','Brand']].groupby(['Ashneer','Brand']).size().reset_index().drop(0, axis = 1)"
   ]
  },
  {
   "cell_type": "code",
   "execution_count": 25,
   "id": "122eeb5e",
   "metadata": {},
   "outputs": [
    {
     "data": {
      "text/plain": [
       "0             Aas Vidyalaya\n",
       "1              Bamboo India\n",
       "2              Beyond Snack\n",
       "3       BluePine Industries\n",
       "4             Booz scooters\n",
       "5                 EventBeep\n",
       "6     Find Your Kicks India\n",
       "7                Get a Whey\n",
       "8            Hair Originals\n",
       "9                  IN A CAN\n",
       "10            Jain Shikanji\n",
       "11            Motion Breeze\n",
       "12       Nomad Food Project\n",
       "13                     Otua\n",
       "14                   Proxgy\n",
       "15       Raising Superstars\n",
       "16              Skippi Pops\n",
       "17               Tagz Foods\n",
       "18          The Yarn Bazaar\n",
       "19               Tweek Labs\n",
       "20                  WeSTOCK\n",
       "Name: Brand, dtype: object"
      ]
     },
     "execution_count": 25,
     "metadata": {},
     "output_type": "execute_result"
    }
   ],
   "source": [
    "Ashneer.loc[Ashneer['Ashneer']=='In', 'Brand']"
   ]
  },
  {
   "cell_type": "markdown",
   "id": "f070c051",
   "metadata": {},
   "source": [
    "**These are the Brands in Which Ashneer Grover Invested**"
   ]
  },
  {
   "cell_type": "markdown",
   "id": "dd0aed17",
   "metadata": {},
   "source": [
    "-------------------------------------------------------------------------------------------------------------------------------"
   ]
  },
  {
   "cell_type": "markdown",
   "id": "cb71aac2",
   "metadata": {},
   "source": [
    "### In which Episode Maximum Pitches were made ?"
   ]
  },
  {
   "cell_type": "code",
   "execution_count": 26,
   "id": "be34caff",
   "metadata": {},
   "outputs": [
    {
     "data": {
      "text/html": [
       "<div>\n",
       "<style scoped>\n",
       "    .dataframe tbody tr th:only-of-type {\n",
       "        vertical-align: middle;\n",
       "    }\n",
       "\n",
       "    .dataframe tbody tr th {\n",
       "        vertical-align: top;\n",
       "    }\n",
       "\n",
       "    .dataframe thead th {\n",
       "        text-align: right;\n",
       "    }\n",
       "</style>\n",
       "<table border=\"1\" class=\"dataframe\">\n",
       "  <thead>\n",
       "    <tr style=\"text-align: right;\">\n",
       "      <th></th>\n",
       "      <th>Episode Number</th>\n",
       "      <th>Pitch Number</th>\n",
       "    </tr>\n",
       "  </thead>\n",
       "  <tbody>\n",
       "    <tr>\n",
       "      <th>0</th>\n",
       "      <td>18</td>\n",
       "      <td>4</td>\n",
       "    </tr>\n",
       "    <tr>\n",
       "      <th>1</th>\n",
       "      <td>30</td>\n",
       "      <td>4</td>\n",
       "    </tr>\n",
       "    <tr>\n",
       "      <th>2</th>\n",
       "      <td>17</td>\n",
       "      <td>4</td>\n",
       "    </tr>\n",
       "    <tr>\n",
       "      <th>3</th>\n",
       "      <td>16</td>\n",
       "      <td>4</td>\n",
       "    </tr>\n",
       "    <tr>\n",
       "      <th>4</th>\n",
       "      <td>22</td>\n",
       "      <td>4</td>\n",
       "    </tr>\n",
       "    <tr>\n",
       "      <th>5</th>\n",
       "      <td>23</td>\n",
       "      <td>4</td>\n",
       "    </tr>\n",
       "    <tr>\n",
       "      <th>6</th>\n",
       "      <td>27</td>\n",
       "      <td>4</td>\n",
       "    </tr>\n",
       "    <tr>\n",
       "      <th>7</th>\n",
       "      <td>31</td>\n",
       "      <td>4</td>\n",
       "    </tr>\n",
       "    <tr>\n",
       "      <th>8</th>\n",
       "      <td>32</td>\n",
       "      <td>4</td>\n",
       "    </tr>\n",
       "    <tr>\n",
       "      <th>9</th>\n",
       "      <td>33</td>\n",
       "      <td>4</td>\n",
       "    </tr>\n",
       "    <tr>\n",
       "      <th>10</th>\n",
       "      <td>34</td>\n",
       "      <td>4</td>\n",
       "    </tr>\n",
       "  </tbody>\n",
       "</table>\n",
       "</div>"
      ],
      "text/plain": [
       "    Episode Number  Pitch Number\n",
       "0               18             4\n",
       "1               30             4\n",
       "2               17             4\n",
       "3               16             4\n",
       "4               22             4\n",
       "5               23             4\n",
       "6               27             4\n",
       "7               31             4\n",
       "8               32             4\n",
       "9               33             4\n",
       "10              34             4"
      ]
     },
     "execution_count": 26,
     "metadata": {},
     "output_type": "execute_result"
    }
   ],
   "source": [
    "df.groupby(['Episode Number'])['Pitch Number'].count().sort_values(ascending = False).reset_index().head(11)"
   ]
  },
  {
   "cell_type": "markdown",
   "id": "702a9e79",
   "metadata": {},
   "source": [
    "### Top 5 Investments"
   ]
  },
  {
   "cell_type": "code",
   "execution_count": 27,
   "id": "e4f323c5",
   "metadata": {},
   "outputs": [],
   "source": [
    "investment = df.groupby('Brand')['Investment Amount (In Lakhs INR) '].sum().sort_values(ascending = False).reset_index().head(11)"
   ]
  },
  {
   "cell_type": "code",
   "execution_count": 28,
   "id": "a9d381b6",
   "metadata": {},
   "outputs": [
    {
     "data": {
      "text/plain": [
       "[]"
      ]
     },
     "execution_count": 28,
     "metadata": {},
     "output_type": "execute_result"
    },
    {
     "data": {
      "image/png": "[encoded data removed]",
      "text/plain": [
       "<Figure size 1000x500 with 1 Axes>"
      ]
     },
     "metadata": {},
     "output_type": "display_data"
    }
   ],
   "source": [
    "plt.figure(figsize=(10,5))\n",
    "sns.barplot(x=investment['Brand'],y=investment['Investment Amount (In Lakhs INR) '],palette='rocket' )\n",
    "plt.xticks(rotation = 45)\n",
    "plt.title('Top 5 Investment Figures in Companies', fontsize = 15)\n",
    "plt.xlabel('Name of Brand')\n",
    "plt.ylabel('Investment Amount (In Lakhs INR) ')\n",
    "plt.plot()"
   ]
  },
  {
   "cell_type": "markdown",
   "id": "eb59a527",
   "metadata": {},
   "source": [
    "**These are the top 5 Investments made**"
   ]
  },
  {
   "cell_type": "markdown",
   "id": "3eb52403",
   "metadata": {},
   "source": [
    "### Top 10 Valued Companies"
   ]
  },
  {
   "cell_type": "code",
   "execution_count": 29,
   "id": "7d634eb0",
   "metadata": {},
   "outputs": [],
   "source": [
    "valued = df.groupby('Brand')['Valuation Offered (In Lakhs INR)'].sum().sort_values(ascending = False).reset_index().head(10)"
   ]
  },
  {
   "cell_type": "code",
   "execution_count": 30,
   "id": "b9940e2a",
   "metadata": {},
   "outputs": [
    {
     "data": {
      "text/plain": [
       "[]"
      ]
     },
     "execution_count": 30,
     "metadata": {},
     "output_type": "execute_result"
    },
    {
     "data": {
      "image/png": "[encoded data removed]",
      "text/plain": [
       "<Figure size 1000x500 with 1 Axes>"
      ]
     },
     "metadata": {},
     "output_type": "display_data"
    }
   ],
   "source": [
    "plt.figure(figsize=(10,5))\n",
    "sns.barplot(x=valued['Brand'],y=valued['Valuation Offered (In Lakhs INR)'],palette='rocket' )\n",
    "plt.xticks(rotation = 45)\n",
    "plt.title('Top 10 Valued Companies', fontsize = 15)\n",
    "plt.xlabel('Name of Brand')\n",
    "plt.ylabel('Valuation Offered (In Lakhs INR)')\n",
    "plt.plot()"
   ]
  },
  {
   "cell_type": "markdown",
   "id": "aa5be171",
   "metadata": {},
   "source": [
    "**These are the top 10 Values Companies**"
   ]
  },
  {
   "cell_type": "markdown",
   "id": "758f051f",
   "metadata": {},
   "source": [
    "### Brands Which Received Debt from Sharks"
   ]
  },
  {
   "cell_type": "code",
   "execution_count": 31,
   "id": "654a1246",
   "metadata": {},
   "outputs": [
    {
     "data": {
      "text/html": [
       "<div>\n",
       "<style scoped>\n",
       "    .dataframe tbody tr th:only-of-type {\n",
       "        vertical-align: middle;\n",
       "    }\n",
       "\n",
       "    .dataframe tbody tr th {\n",
       "        vertical-align: top;\n",
       "    }\n",
       "\n",
       "    .dataframe thead th {\n",
       "        text-align: right;\n",
       "    }\n",
       "</style>\n",
       "<table border=\"1\" class=\"dataframe\">\n",
       "  <thead>\n",
       "    <tr style=\"text-align: right;\">\n",
       "      <th></th>\n",
       "      <th>Brand</th>\n",
       "      <th>Debt (In lakhs INR)</th>\n",
       "    </tr>\n",
       "  </thead>\n",
       "  <tbody>\n",
       "    <tr>\n",
       "      <th>8</th>\n",
       "      <td>NOCD</td>\n",
       "      <td>30</td>\n",
       "    </tr>\n",
       "    <tr>\n",
       "      <th>43</th>\n",
       "      <td>PNT</td>\n",
       "      <td>25</td>\n",
       "    </tr>\n",
       "    <tr>\n",
       "      <th>45</th>\n",
       "      <td>Bamboo India</td>\n",
       "      <td>30</td>\n",
       "    </tr>\n",
       "    <tr>\n",
       "      <th>55</th>\n",
       "      <td>Otua</td>\n",
       "      <td>99</td>\n",
       "    </tr>\n",
       "    <tr>\n",
       "      <th>61</th>\n",
       "      <td>The State Plate</td>\n",
       "      <td>25</td>\n",
       "    </tr>\n",
       "    <tr>\n",
       "      <th>65</th>\n",
       "      <td>Sid07 Designs</td>\n",
       "      <td>22</td>\n",
       "    </tr>\n",
       "    <tr>\n",
       "      <th>71</th>\n",
       "      <td>Namhya Foods</td>\n",
       "      <td>50</td>\n",
       "    </tr>\n",
       "    <tr>\n",
       "      <th>76</th>\n",
       "      <td>KG Agrotech</td>\n",
       "      <td>20</td>\n",
       "    </tr>\n",
       "  </tbody>\n",
       "</table>\n",
       "</div>"
      ],
      "text/plain": [
       "              Brand  Debt (In lakhs INR)\n",
       "8              NOCD                   30\n",
       "43              PNT                   25\n",
       "45     Bamboo India                   30\n",
       "55             Otua                   99\n",
       "61  The State Plate                   25\n",
       "65    Sid07 Designs                   22\n",
       "71     Namhya Foods                   50\n",
       "76      KG Agrotech                   20"
      ]
     },
     "execution_count": 31,
     "metadata": {},
     "output_type": "execute_result"
    }
   ],
   "source": [
    "df.loc[df['Debt (In lakhs INR)']>0, ['Brand','Debt (In lakhs INR)']]"
   ]
  },
  {
   "cell_type": "markdown",
   "id": "93eb5b54",
   "metadata": {},
   "source": [
    "**These are the 8 Brands which Received the Debt**"
   ]
  },
  {
   "cell_type": "code",
   "execution_count": 32,
   "id": "b30a422a",
   "metadata": {},
   "outputs": [],
   "source": [
    "df['Investment_per_shark'] = df['Investment Amount (In Lakhs INR) ']/df['Sharks _In']"
   ]
  },
  {
   "cell_type": "code",
   "execution_count": 33,
   "id": "39cafaca",
   "metadata": {},
   "outputs": [],
   "source": [
    "df['Investment_per_shark'] = df['Investment_per_shark'].fillna(0)"
   ]
  },
  {
   "cell_type": "markdown",
   "id": "4d0a91ac",
   "metadata": {},
   "source": [
    "**Total Invetments made by Namita Thapar**"
   ]
  },
  {
   "cell_type": "code",
   "execution_count": 34,
   "id": "937df3b6",
   "metadata": {},
   "outputs": [
    {
     "data": {
      "text/plain": [
       "476.8333333333333"
      ]
     },
     "execution_count": 34,
     "metadata": {},
     "output_type": "execute_result"
    }
   ],
   "source": [
    "df['Investment_per_shark'][df['Namita']=='In'].sum()"
   ]
  },
  {
   "cell_type": "markdown",
   "id": "21d1d365",
   "metadata": {},
   "source": [
    "**Total Invetments made by Vineeta Sing**"
   ]
  },
  {
   "cell_type": "code",
   "execution_count": 35,
   "id": "4cd452a0",
   "metadata": {},
   "outputs": [
    {
     "data": {
      "text/plain": [
       "384.83333333333337"
      ]
     },
     "execution_count": 35,
     "metadata": {},
     "output_type": "execute_result"
    }
   ],
   "source": [
    "df['Investment_per_shark'][df['Anupam']=='In'].sum()"
   ]
  },
  {
   "cell_type": "markdown",
   "id": "048b42a3",
   "metadata": {},
   "source": [
    "**Which are the Businesses in Which Gazal Alag shown her Interest ?**"
   ]
  },
  {
   "cell_type": "code",
   "execution_count": 36,
   "id": "5360ef37",
   "metadata": {},
   "outputs": [
    {
     "data": {
      "text/html": [
       "<div>\n",
       "<style scoped>\n",
       "    .dataframe tbody tr th:only-of-type {\n",
       "        vertical-align: middle;\n",
       "    }\n",
       "\n",
       "    .dataframe tbody tr th {\n",
       "        vertical-align: top;\n",
       "    }\n",
       "\n",
       "    .dataframe thead th {\n",
       "        text-align: right;\n",
       "    }\n",
       "</style>\n",
       "<table border=\"1\" class=\"dataframe\">\n",
       "  <thead>\n",
       "    <tr style=\"text-align: right;\">\n",
       "      <th></th>\n",
       "      <th>Brand</th>\n",
       "      <th>Idea</th>\n",
       "    </tr>\n",
       "  </thead>\n",
       "  <tbody>\n",
       "    <tr>\n",
       "      <th>75</th>\n",
       "      <td>The Sass Bar</td>\n",
       "      <td>Gifts</td>\n",
       "    </tr>\n",
       "    <tr>\n",
       "      <th>79</th>\n",
       "      <td>Sunfox Technologies</td>\n",
       "      <td>Portable ECG Device</td>\n",
       "    </tr>\n",
       "    <tr>\n",
       "      <th>85</th>\n",
       "      <td>Watt Technovations</td>\n",
       "      <td>Ventilated PPE Kits</td>\n",
       "    </tr>\n",
       "    <tr>\n",
       "      <th>88</th>\n",
       "      <td>Humpy A2</td>\n",
       "      <td>Organic Milk Products</td>\n",
       "    </tr>\n",
       "    <tr>\n",
       "      <th>90</th>\n",
       "      <td>Gold Safe Solutions Ind.</td>\n",
       "      <td>Anti-Suicidal Fan Rod</td>\n",
       "    </tr>\n",
       "    <tr>\n",
       "      <th>91</th>\n",
       "      <td>Wakao Foods</td>\n",
       "      <td>Jackfruit Products</td>\n",
       "    </tr>\n",
       "    <tr>\n",
       "      <th>110</th>\n",
       "      <td>Nomad Food Project</td>\n",
       "      <td>Bacon Jams</td>\n",
       "    </tr>\n",
       "  </tbody>\n",
       "</table>\n",
       "</div>"
      ],
      "text/plain": [
       "                        Brand                   Idea\n",
       "75               The Sass Bar                  Gifts\n",
       "79        Sunfox Technologies    Portable ECG Device\n",
       "85         Watt Technovations    Ventilated PPE Kits\n",
       "88                   Humpy A2  Organic Milk Products\n",
       "90   Gold Safe Solutions Ind.  Anti-Suicidal Fan Rod\n",
       "91                Wakao Foods     Jackfruit Products\n",
       "110        Nomad Food Project             Bacon Jams"
      ]
     },
     "execution_count": 36,
     "metadata": {},
     "output_type": "execute_result"
    }
   ],
   "source": [
    "df.loc[df['Ghazal']=='In', ['Brand','Idea']]"
   ]
  },
  {
   "cell_type": "markdown",
   "id": "2054b773",
   "metadata": {},
   "source": [
    "**Observation:**\n",
    "\n",
    "- Ghazal not inveted in Technology Businesses her focus was mainly on food products (invested in two food brands)"
   ]
  },
  {
   "cell_type": "markdown",
   "id": "57bf018e",
   "metadata": {},
   "source": [
    "### How much Debt were offered by Peyush Bansal ?"
   ]
  },
  {
   "cell_type": "code",
   "execution_count": 37,
   "id": "c310e857",
   "metadata": {},
   "outputs": [
    {
     "data": {
      "text/plain": [
       "92"
      ]
     },
     "execution_count": 37,
     "metadata": {},
     "output_type": "execute_result"
    }
   ],
   "source": [
    "df['Debt (In lakhs INR)'][(df['Debt (In lakhs INR)']>0) & (df['Peyush']=='In') & (df['Sharks _In']==1)].sum()"
   ]
  },
  {
   "cell_type": "markdown",
   "id": "38dc9ac7",
   "metadata": {},
   "source": [
    "**Total 92 Lakhs of Debt was Provided by Peyush Bansal**"
   ]
  },
  {
   "cell_type": "markdown",
   "id": "598ee23d",
   "metadata": {},
   "source": [
    "### How Much Anupan Mittal Invested ?\n",
    "\n",
    "As a Single In shark and as Partner with other sharks"
   ]
  },
  {
   "cell_type": "code",
   "execution_count": 38,
   "id": "eaa8c73d",
   "metadata": {},
   "outputs": [
    {
     "data": {
      "text/plain": [
       "100.0"
      ]
     },
     "execution_count": 38,
     "metadata": {},
     "output_type": "execute_result"
    }
   ],
   "source": [
    "df['Investment_per_shark'][(df['Investment_per_shark']>0) & (df['Anupam']=='In') & (df['Sharks _In']==1)].sum()"
   ]
  },
  {
   "cell_type": "code",
   "execution_count": 39,
   "id": "4a4d21bb",
   "metadata": {},
   "outputs": [
    {
     "data": {
      "text/plain": [
       "284.8333333333333"
      ]
     },
     "execution_count": 39,
     "metadata": {},
     "output_type": "execute_result"
    }
   ],
   "source": [
    "df['Investment_per_shark'][(df['Investment_per_shark']>0) & (df['Anupam']=='In') & (df['Sharks _In']!=1)].sum()"
   ]
  },
  {
   "cell_type": "markdown",
   "id": "47fa9d5d",
   "metadata": {},
   "source": [
    "**Observations:**\n",
    "\n",
    "- Anupan Mittal Single Handedly Invested 1 Crore\n",
    "- and 2 Crore 84 Laks while partnering with other sharks"
   ]
  }
 ],
 "metadata": {
  "kernelspec": {
   "display_name": "Python 3 (ipykernel)",
   "language": "python",
   "name": "python3"
  },
  "language_info": {
   "codemirror_mode": {
    "name": "ipython",
    "version": 3
   },
   "file_extension": ".py",
   "mimetype": "text/x-python",
   "name": "python",
   "nbconvert_exporter": "python",
   "pygments_lexer": "ipython3",
   "version": "3.11.5"
  }
 },
 "nbformat": 4,
 "nbformat_minor": 5
}
